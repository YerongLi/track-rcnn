{
 "cells": [
  {
   "cell_type": "code",
   "execution_count": null,
   "metadata": {},
   "outputs": [],
   "source": [
    "%matplotlib inline\n",
    "\n",
    "import os \n",
    "import sys\n",
    "import numpy as np\n",
    "import time\n",
    "import imp\n",
    "import cv2\n",
    "import tensorflow as tf\n",
    "\n",
    "sys.path.append('.')\n",
    "from datasets.motdb import MotDB\n",
    "from track_rcnn.layer import roi_pool\n",
    "sys.path.append('./caffe-tensorflow')\n",
    "from kaffe.tensorflow import Network\n",
    "\n",
    "import matplotlib\n",
    "import matplotlib.pyplot as plt\n",
    "import matplotlib.image as mpimg\n",
    "import matplotlib.patches as patches\n",
    "from JSAnimation.IPython_display import display_animation\n",
    "\n",
    "sess = tf.InteractiveSession()"
   ]
  },
  {
   "cell_type": "code",
   "execution_count": null,
   "metadata": {},
   "outputs": [],
   "source": [
    "# Hyperparameters\n",
    "n_ims = 2\n",
    "max_h = 368\n",
    "max_w = 496\n",
    "\n",
    "spatial_scale = 1/16.\n",
    "pooled_h = 6\n",
    "pooled_w = 6\n",
    "\n",
    "n_rois = 6"
   ]
  },
  {
   "cell_type": "code",
   "execution_count": null,
   "metadata": {},
   "outputs": [],
   "source": [
    "# Define the network\n",
    "class AlexNetConv5(Network):\n",
    "    def setup(self):\n",
    "        (self.feed('data')\n",
    "             .conv(11, 11, 96, 4, 4, padding='VALID', name='conv1')\n",
    "             .lrn(2, 2e-05, 0.75, name='norm1')\n",
    "             .max_pool(3, 3, 2, 2, padding='VALID', name='pool1')\n",
    "             .conv(5, 5, 256, 1, 1, group=2, name='conv2')\n",
    "             .lrn(2, 2e-05, 0.75, name='norm2')\n",
    "             .max_pool(3, 3, 2, 2, padding='VALID', name='pool2')\n",
    "             .conv(3, 3, 384, 1, 1, name='conv3')\n",
    "             .conv(3, 3, 384, 1, 1, group=2, name='conv4')\n",
    "             .conv(3, 3, 256, 1, 1, group=2, name='conv5'))\n",
    "        \n",
    "class CaffeNetConv5(Network):\n",
    "    def setup(self):\n",
    "        (self.feed('data')\n",
    "             .conv(11, 11, 96, 4, 4, padding='VALID', name='conv1')\n",
    "             .max_pool(3, 3, 2, 2, padding='VALID', name='pool1')\n",
    "             .lrn(2, 2e-05, 0.75, name='norm1')\n",
    "             .conv(5, 5, 256, 1, 1, group=2, name='conv2')\n",
    "             .max_pool(3, 3, 2, 2, padding='VALID', name='pool2')\n",
    "             .lrn(2, 2e-05, 0.75, name='norm2')\n",
    "             .conv(3, 3, 384, 1, 1, name='conv3')\n",
    "             .conv(3, 3, 384, 1, 1, group=2, name='conv4')\n",
    "             .conv(3, 3, 256, 1, 1, group=2, name='conv5'))\n",
    "        \n",
    "class VGG16Conv5(Network):\n",
    "    def setup(self):\n",
    "        (self.feed('data')\n",
    "             .conv(3, 3, 64, 1, 1, name='conv1_1')\n",
    "             .conv(3, 3, 64, 1, 1, name='conv1_2')\n",
    "             .max_pool(2, 2, 2, 2, name='pool1')\n",
    "             .conv(3, 3, 128, 1, 1, name='conv2_1')\n",
    "             .conv(3, 3, 128, 1, 1, name='conv2_2')\n",
    "             .max_pool(2, 2, 2, 2, name='pool2')\n",
    "             .conv(3, 3, 256, 1, 1, name='conv3_1')\n",
    "             .conv(3, 3, 256, 1, 1, name='conv3_2')\n",
    "             .conv(3, 3, 256, 1, 1, name='conv3_3')\n",
    "             .max_pool(2, 2, 2, 2, name='pool3')\n",
    "             .conv(3, 3, 512, 1, 1, name='conv4_1')\n",
    "             .conv(3, 3, 512, 1, 1, name='conv4_2')\n",
    "             .conv(3, 3, 512, 1, 1, name='conv4_3')\n",
    "             .max_pool(2, 2, 2, 2, name='pool4')\n",
    "             .conv(3, 3, 512, 1, 1, name='conv5_1')\n",
    "             .conv(3, 3, 512, 1, 1, name='conv5_2')\n",
    "             .conv(3, 3, 512, 1, 1, name='conv5_3'))"
   ]
  },
  {
   "cell_type": "markdown",
   "metadata": {},
   "source": [
    "# Compute the feature"
   ]
  },
  {
   "cell_type": "code",
   "execution_count": null,
   "metadata": {},
   "outputs": [],
   "source": [
    "# Define Tensorflow Graph\n",
    "im_input = tf.placeholder(tf.float32, [n_ims, max_h, max_w, 3])\n",
    "rois_input = tf.placeholder(tf.float32, [n_rois, 5])\n",
    "net = AlexNetConv5({'data': im_input})\n",
    "conv5 = net.get_output()\n",
    "\n",
    "pool5, bins = roi_pool(conv5, rois_input,\n",
    "                               spatial_scale, pooled_h, pooled_w, debug=True)"
   ]
  },
  {
   "cell_type": "code",
   "execution_count": null,
   "metadata": {},
   "outputs": [],
   "source": [
    "# Read images\n",
    "im_names = ['cat.jpg', 'fish-bike.jpg']\n",
    "ims = np.zeros([n_ims, max_h, max_w, 3])\n",
    "for i in range(n_ims):\n",
    "    im = cv2.imread('data/'+im_names[i])\n",
    "    ims[i, :im.shape[0], :im.shape[1], :] = im\n",
    "    \n",
    "# Define RoIs\n",
    "rois = np.zeros([n_rois, 5])\n",
    "\n",
    "rois[:4, :] = np.array([[0, 100, 50, 204, 152]])\n",
    "rois[1, :] = np.array([[0, 20, 20, 5104, 83]])\n",
    "rois[4, :] = np.array([1, 100, 200, 200, 300])\n",
    "rois[5, :] = np.array([1, 200, 50, 400, 150])\n",
    "\n",
    "# Run\n",
    "net.load('data/tensorflow_models/alexnet.npy', sess, ignore_missing=True)\n",
    "conv5_data, pool5_data, bins_data = sess.run([conv5, pool5, bins],\n",
    "                                             feed_dict={im_input: ims, rois_input: rois})\n",
    "print(conv5_data.shape)"
   ]
  },
  {
   "cell_type": "code",
   "execution_count": null,
   "metadata": {
    "scrolled": false
   },
   "outputs": [],
   "source": [
    "# Visualization\n",
    "\n",
    "n_channels = 10\n",
    "channel = 20\n",
    "for roi_idx in range(n_rois):\n",
    "    fig = plt.figure(figsize=(10, 5))\n",
    "    ax1 = fig.add_subplot(1, 3, 1)\n",
    "    ax2 = fig.add_subplot(1, 3, 2)\n",
    "    ax3 = fig.add_subplot(1, 3, 3)\n",
    "    \n",
    "    # Plot image\n",
    "    im_idx = rois[roi_idx, 0]\n",
    "    ax1.imshow(cv2.cvtColor(ims[im_idx, :, :, :].astype('uint8'), cv2.COLOR_BGR2RGB))\n",
    "    x1, y1, x2, y2 = rois[roi_idx, 1:]\n",
    "    ax1.add_patch(patches.Rectangle((x1, y1), x2-x1, y2-y1, fill=False, linewidth=1, edgecolor='r'))\n",
    "    \n",
    "    for ph in range(pooled_h):\n",
    "        for pw in range(pooled_w):\n",
    "            x1, y1, x2, y2 = bins_data[roi_idx, ph, pw, :] / spatial_scale\n",
    "            ax1.add_patch(patches.Rectangle((x1, y1), x2-x1, y2-y1, fill=False, linewidth=1, edgecolor='b'))\n",
    "            \n",
    "    # Plot conv5 feature (mean of multiple channels)\n",
    "    ax2.imshow(np.mean(conv5_data[im_idx, :, :, :200], axis=2), cmap='Greys_r')\n",
    "    \n",
    "    for ph in range(pooled_h):\n",
    "        for pw in range(pooled_w):\n",
    "            x1, y1, x2, y2 = bins_data[roi_idx, ph, pw, :]\n",
    "            ax2.add_patch(patches.Rectangle((x1, y1), x2-x1, y2-y1, fill=False, linewidth=1, edgecolor='b'))\n",
    "    \n",
    "    # Plot the pool5\n",
    "    ax3.imshow(np.mean(pool5_data[roi_idx, :, :, :200], axis=2), cmap='Greys_r')\n",
    "    print(conv5_data.shape)"
   ]
  },
  {
   "cell_type": "code",
   "execution_count": null,
   "metadata": {
    "collapsed": true
   },
   "outputs": [],
   "source": []
  }
 ],
 "metadata": {
  "kernelspec": {
   "display_name": "Python 3",
   "language": "python",
   "name": "python3"
  },
  "language_info": {
   "codemirror_mode": {
    "name": "ipython",
    "version": 3
   },
   "file_extension": ".py",
   "mimetype": "text/x-python",
   "name": "python",
   "nbconvert_exporter": "python",
   "pygments_lexer": "ipython3",
   "version": "3.6.3"
  }
 },
 "nbformat": 4,
 "nbformat_minor": 1
}
