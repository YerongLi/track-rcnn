{
 "cells": [
  {
   "cell_type": "code",
   "execution_count": null,
   "metadata": {
    "collapsed": false
   },
   "outputs": [],
   "source": [
    "\"\"\"\n",
    "This IPython notebook is used for debuging the net forward function. \n",
    "\"\"\"\n",
    "\n",
    "%matplotlib inline\n",
    "\n",
    "import os \n",
    "import sys\n",
    "import numpy as np\n",
    "import time\n",
    "import imp\n",
    "import cv2\n",
    "import tensorflow as tf\n",
    "\n",
    "sys.path.append('.')\n",
    "from datasets.videodb import prepare_trajdb\n",
    "from datasets.motdb import MotDB\n",
    "from track_rcnn.net import TrackRCNN\n",
    "from track_rcnn.layer import roi_pool\n",
    "from track_rcnn.minibatch import get_minibatch\n",
    "sys.path.append('./caffe-tensorflow')\n",
    "from kaffe.tensorflow import Network\n",
    "\n",
    "import matplotlib\n",
    "import matplotlib.pyplot as plt\n",
    "import matplotlib.image as mpimg\n",
    "import matplotlib.patches as patches\n",
    "from JSAnimation.IPython_display import display_animation\n",
    "\n",
    "sess = tf.InteractiveSession()"
   ]
  },
  {
   "cell_type": "code",
   "execution_count": null,
   "metadata": {
    "collapsed": false
   },
   "outputs": [],
   "source": [
    "# Build\n",
    "path_config = os.path.join('track_rcnn', 'config.py')\n",
    "config = imp.load_source('*', path_config)\n",
    "cfg = config.cfg\n",
    "m = TrackRCNN(cfg) \n",
    "\n",
    "# Initialize\n",
    "init_scale = cfg.TRAIN.INITIAL_SCALE\n",
    "initializer = tf.random_uniform_initializer(-init_scale, init_scale)\n",
    "tf.initialize_all_variables().run()\n",
    "m.load_cnn_params(sess)"
   ]
  },
  {
   "cell_type": "markdown",
   "metadata": {},
   "source": [
    "# Experiments"
   ]
  },
  {
   "cell_type": "code",
   "execution_count": null,
   "metadata": {
    "collapsed": false
   },
   "outputs": [],
   "source": [
    "# Prepare data\n",
    "train_videos = ['TUD-Stadtmitte', 'ETH-Bahnhof', 'KITTI-13']\n",
    "# train_videos = ['KITTI-13']\n",
    "\n",
    "motdb = MotDB(train_videos)\n",
    "motdb.load_trajdb()\n",
    "motdb.create_rois_for_trajdb(cfg)\n",
    "trajdb = prepare_trajdb(cfg, motdb.trajdb)\n",
    "\n",
    "print(\"#train_trajectories: %d\" % len(trajdb))\n",
    "trajdb = list(trajdb)"
   ]
  },
  {
   "cell_type": "code",
   "execution_count": null,
   "metadata": {
    "collapsed": false
   },
   "outputs": [],
   "source": [
    "# Get batch\n",
    "batch_size = m.n_trajs\n",
    "perm = np.arange(len(trajdb))\n",
    "np.random.shuffle(perm)\n",
    "i = 0\n",
    "index = perm[i*batch_size:(i+1)*batch_size]\n",
    "_trajdb = [trajdb[idx] for idx in index]\n",
    "\n",
    "# Run forward\n",
    "feed_dict = get_minibatch(cfg, _trajdb, m, random=True)\n",
    "ims = feed_dict[m.im_input]\n",
    "rois = feed_dict[m.rois_input]\n",
    "scores = feed_dict[m.scores_target]\n",
    "print rois.shape\n",
    "# [conv5, roi_pool] = sess.run(m.conv5, feed_dict=feed_dict)\n",
    "[conv5, roi_pool, fc7, output] = sess.run([m.conv5, m.roi_pool, m.fc7, m.output], feed_dict=feed_dict)"
   ]
  },
  {
   "cell_type": "code",
   "execution_count": null,
   "metadata": {
    "collapsed": false,
    "scrolled": false
   },
   "outputs": [],
   "source": [
    "# Visualization\n",
    "\n",
    "n_channels = 30\n",
    "channel = 256\n",
    "t = 2\n",
    "for roi_idx in range(cfg.TRAIN.BATCH_SIZE):\n",
    "    fig = plt.figure(figsize=(20, 3))\n",
    "    ax1 = fig.add_subplot(1, 4, 1)\n",
    "    ax2 = fig.add_subplot(1, 4, 2)\n",
    "    ax3 = fig.add_subplot(1, 4, 3)\n",
    "    ax4 = fig.add_subplot(1, 4, 4)\n",
    "    \n",
    "    # Plot image\n",
    "    im_idx = int(rois[roi_idx, t, 0])\n",
    "    im = ims[im_idx, t, :, :, :] + cfg.PIXEL_MEANS\n",
    "    ax1.imshow(cv2.cvtColor(im.astype('uint8'), cv2.COLOR_BGR2RGB))\n",
    "    x1, y1, x2, y2 = rois[roi_idx, t, 1:]\n",
    "    ax1.add_patch(patches.Rectangle((x1, y1), x2-x1, y2-y1, fill=False, linewidth=1, edgecolor='r'))\n",
    "    ax1.set_title(\"%.1f, %.1f, %.1f, %.1f\" % ((x1+x2)/2, (y1+y2)/2, x2-x1, y2-y1))\n",
    "            \n",
    "    # Plot conv5 feature (mean of multiple channels)\n",
    "    ax2.matshow(np.mean(conv5[im_idx, t, :, :, :n_channels], axis=2), cmap='Greys_r')\n",
    "    # ax2.matshow(conv5[im_idx, t, :, :, channel], cmap='Greys_r')\n",
    "    x1, y1, x2, y2 = rois[roi_idx, t, 1:] * m.spatial_scale\n",
    "    ax2.add_patch(patches.Rectangle((x1, y1), x2-x1, y2-y1, fill=False, linewidth=1, edgecolor='r'))\n",
    "    ax2.set_title(\"%.1f, %.1f, %.1f, %.1f\" % ((x1+x2)/2, (y1+y2)/2, x2-x1, y2-y1))\n",
    "    \n",
    "    # Plot the pool5\n",
    "    ax3.matshow(np.mean(roi_pool[roi_idx, t, :, :, :n_channels], axis=2), cmap='Greys_r')\n",
    "    # ax3.matshow(roi_pool[roi_idx, t, :, :, channel], cmap='Greys_r')\n",
    "    \n",
    "    # Plot the fc7\n",
    "    ax4.matshow(np.reshape(fc7[roi_idx, t, :], (64, 64)), cmap='Greys_r')\n",
    "    ax4.set_title(\"score %.1f\" % (scores[roi_idx, t]))"
   ]
  },
  {
   "cell_type": "code",
   "execution_count": null,
   "metadata": {
    "collapsed": true
   },
   "outputs": [],
   "source": []
  },
  {
   "cell_type": "code",
   "execution_count": null,
   "metadata": {
    "collapsed": true
   },
   "outputs": [],
   "source": []
  },
  {
   "cell_type": "code",
   "execution_count": null,
   "metadata": {
    "collapsed": true
   },
   "outputs": [],
   "source": []
  }
 ],
 "metadata": {
  "kernelspec": {
   "display_name": "Python 2",
   "language": "python",
   "name": "python2"
  },
  "language_info": {
   "codemirror_mode": {
    "name": "ipython",
    "version": 2
   },
   "file_extension": ".py",
   "mimetype": "text/x-python",
   "name": "python",
   "nbconvert_exporter": "python",
   "pygments_lexer": "ipython2",
   "version": "2.7.6"
  }
 },
 "nbformat": 4,
 "nbformat_minor": 0
}
