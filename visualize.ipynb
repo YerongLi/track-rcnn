{
 "cells": [
  {
   "cell_type": "code",
   "execution_count": null,
   "metadata": {
    "collapsed": false
   },
   "outputs": [],
   "source": [
    "%matplotlib inline\n",
    "\n",
    "import os \n",
    "import numpy as np\n",
    "import time\n",
    "import imp\n",
    "import cv2\n",
    "\n",
    "from datasets.motdb import *\n",
    "from datasets.videodb import rank_nearest_boxes, merge_roidbs\n",
    "from track_rcnn.minibatch import get_minibatch\n",
    "\n",
    "import matplotlib\n",
    "import matplotlib.pyplot as plt\n",
    "import matplotlib.image as mpimg\n",
    "import matplotlib.patches as patches\n",
    "from JSAnimation.IPython_display import display_animation\n",
    "\n",
    "from utils.visualize import *"
   ]
  },
  {
   "cell_type": "markdown",
   "metadata": {},
   "source": [
    "# Utilities"
   ]
  },
  {
   "cell_type": "code",
   "execution_count": null,
   "metadata": {
    "collapsed": false
   },
   "outputs": [],
   "source": [
    "# Dataset configuration\n",
    "data_path = 'data/2DMOT2015/'\n",
    "train_videos = ['ADL-Rundle-6',\n",
    "                'ADL-Rundle-8',\n",
    "                'ETH-Bahnhof',\n",
    "                'ETH-Pedcross2',\n",
    "                'ETH-Sunnyday',\n",
    "                'KITTI-13',\n",
    "                'KITTI-17',\n",
    "                'PETS09-S2L1',\n",
    "                'TUD-Campus',\n",
    "                'TUD-Stadtmitte', \n",
    "                'Venice-2']\n",
    "test_videos = ['ADL-Rundle-1',\n",
    "               'ADL-Rundle-3',\n",
    "               'AVG-TownCentre',\n",
    "               'ETH-Crossing',\n",
    "               'ETH-Jelmoli',\n",
    "               'ETH-Linthescher',\n",
    "               'KITTI-16',\n",
    "               'KITTI-19',\n",
    "               'PETS09-S2L2',\n",
    "               'TUD-Crossing',  \n",
    "               'Venice-1']\n",
    "videos = ['PETS09-S2L1']"
   ]
  },
  {
   "cell_type": "markdown",
   "metadata": {},
   "source": [
    "# Visualize MotDB"
   ]
  },
  {
   "cell_type": "code",
   "execution_count": null,
   "metadata": {
    "collapsed": false
   },
   "outputs": [],
   "source": [
    "# Configuration\n",
    "path_config = os.path.join('track_rcnn', 'config.py') \n",
    "config = imp.load_source('*', path_config) \n",
    "cfg = config.cfg\n",
    "\n",
    "# Load the MOT dataset\n",
    "videodb = MotDB(videos)\n",
    "videodb.load_trajdb()\n",
    "gt_roidb = videodb.gt_roidb()\n",
    "ss_roidb = videodb.selective_search_roidb()\n",
    "\n",
    "roidb = merge_roidbs(gt_roidb, ss_roidb)"
   ]
  },
  {
   "cell_type": "code",
   "execution_count": null,
   "metadata": {
    "collapsed": false
   },
   "outputs": [],
   "source": [
    "def vis_traj(traj, roidb, time_span=None, n_rois=10, plot_th=0.0, show_score=False):\n",
    "    \"\"\"\n",
    "    Viasualize a trajectory. \n",
    "    \"\"\"\n",
    "    if time_span is None:\n",
    "        time_span = (0, len(traj))\n",
    "    if len(time_span) == 2:\n",
    "        time_span = (time_span[0], time_span[1], 1)\n",
    "    \n",
    "    obj_id = traj[0]['obj_id']\n",
    "        \n",
    "    for t in range(time_span[0], time_span[1], time_span[2]):\n",
    "        assert t < len(traj), 'Error: Time step %d exceeds trajectory length %d' % (t, len(traj))\n",
    "        traj_t = traj[t]\n",
    "        # Create figure\n",
    "        figsize = (10, 10)\n",
    "        fig = plt.figure(figsize=figsize)\n",
    "        ax = fig.add_subplot(1, 1, 1)\n",
    "        # Show the image\n",
    "        img = cv2.imread(traj_t['image'])\n",
    "        img = cv2.cvtColor(img, cv2.COLOR_BGR2RGB)\n",
    "        ax.imshow(img)\n",
    "        plt.title('Image: {}\\nFrame: {}, Obj_ID: {}, BBox: {}, Visible: {}'.\\\n",
    "            format(traj_t['image'], traj_t['fr']+1, traj_t['obj_id']+1, traj_t['gt_box'].tolist(), traj_t['visible']))\n",
    "        \n",
    "        # Plot the ground truth bounding box\n",
    "        # noise = np.array([300, 300, 240, 270])\n",
    "        noise = np.array([0, 0, 0, 0])\n",
    "        plot_box(ax, traj_t['gt_box'] + noise, 1, traj_t['visible'], show_score)\n",
    "        \n",
    "        # Plot nearest rois\n",
    "        boxes = roidb[t]['boxes']\n",
    "        i_obj_id = roidb[t]['obj_ids'].index(obj_id)\n",
    "        scores = roidb[t]['gt_overlaps'][:, i_obj_id]\n",
    "        \n",
    "        if n_rois is None:\n",
    "            n_rois = traj_t['gt_box'].shape[0]\n",
    "        rank_inds = rank_nearest_boxes(traj_t['gt_box'] + noise, boxes, np.array([[1, 1, 3, 3]]))\n",
    "        \n",
    "        for i in range(n_rois):\n",
    "            ind = rank_inds[i]\n",
    "            if scores[ind] >= plot_th:\n",
    "                plot_box(ax, boxes[ind], scores[ind], True, show_score)\n",
    "        "
   ]
  },
  {
   "cell_type": "code",
   "execution_count": null,
   "metadata": {
    "collapsed": false
   },
   "outputs": [],
   "source": [
    "print(len(videodb.trajdb))\n",
    "print([(i, len(trajdb)) for i, trajdb in enumerate(videodb.trajdb)])"
   ]
  },
  {
   "cell_type": "code",
   "execution_count": null,
   "metadata": {
    "collapsed": false,
    "scrolled": false
   },
   "outputs": [],
   "source": [
    "ind = 4\n",
    "\n",
    "trajdb = videodb.trajdb[ind]\n",
    "print(len(trajdb))\n",
    "trajdb = trajdb[:2]\n",
    "video_id = trajdb[0]['video_id']\n",
    "fr = trajdb[0]['fr']\n",
    "roidb = ss_roidb[video_id][fr:]\n",
    "vis_traj(trajdb, roidb, None, 512, False)"
   ]
  },
  {
   "cell_type": "markdown",
   "metadata": {},
   "source": [
    "# Visualize Minibatch"
   ]
  },
  {
   "cell_type": "code",
   "execution_count": null,
   "metadata": {
    "collapsed": false,
    "scrolled": true
   },
   "outputs": [],
   "source": [
    "idx = 200\n",
    "trajdb = motdb.trajdb[idx]\n",
    "batch_data = get_minibatch(cfg, trajdb[0:10], roidb, random=True)\n",
    "n_steps = batch_data['im_inputs'].shape[0]\n",
    "\n",
    "for t in range(2):\n",
    "    ims = batch_data['im_inputs'][t, :]\n",
    "    rois = batch_data['roi_inputs'][t, :]\n",
    "    scores = batch_data['score_targets'][t, :]\n",
    "    vis_frame(cfg, ims, rois, scores, show_score=False)"
   ]
  },
  {
   "cell_type": "code",
   "execution_count": null,
   "metadata": {
    "collapsed": true
   },
   "outputs": [],
   "source": []
  }
 ],
 "metadata": {
  "kernelspec": {
   "display_name": "Python 2",
   "language": "python",
   "name": "python2"
  },
  "language_info": {
   "codemirror_mode": {
    "name": "ipython",
    "version": 2
   },
   "file_extension": ".py",
   "mimetype": "text/x-python",
   "name": "python",
   "nbconvert_exporter": "python",
   "pygments_lexer": "ipython2",
   "version": "2.7.6"
  }
 },
 "nbformat": 4,
 "nbformat_minor": 0
}
