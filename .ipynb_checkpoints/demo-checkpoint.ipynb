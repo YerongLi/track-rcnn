{
 "cells": [
  {
   "cell_type": "code",
   "execution_count": 1,
   "metadata": {},
   "outputs": [
    {
     "ename": "ModuleNotFoundError",
     "evalue": "No module named 'tensorflow'",
     "output_type": "error",
     "traceback": [
      "\u001b[0;31m---------------------------------------------------------------------------\u001b[0m",
      "\u001b[0;31mModuleNotFoundError\u001b[0m                       Traceback (most recent call last)",
      "\u001b[0;32m<ipython-input-1-f0b63f443cc9>\u001b[0m in \u001b[0;36m<module>\u001b[0;34m()\u001b[0m\n\u001b[1;32m      9\u001b[0m \u001b[0;32mimport\u001b[0m \u001b[0mnumpy\u001b[0m \u001b[0;32mas\u001b[0m \u001b[0mnp\u001b[0m\u001b[0;34m\u001b[0m\u001b[0m\n\u001b[1;32m     10\u001b[0m \u001b[0;32mimport\u001b[0m \u001b[0mcv2\u001b[0m\u001b[0;34m\u001b[0m\u001b[0m\n\u001b[0;32m---> 11\u001b[0;31m \u001b[0;32mimport\u001b[0m \u001b[0mtensorflow\u001b[0m \u001b[0;32mas\u001b[0m \u001b[0mtf\u001b[0m\u001b[0;34m\u001b[0m\u001b[0m\n\u001b[0m\u001b[1;32m     12\u001b[0m \u001b[0;32mfrom\u001b[0m \u001b[0mdatasets\u001b[0m\u001b[0;34m.\u001b[0m\u001b[0mvideodb\u001b[0m \u001b[0;32mimport\u001b[0m \u001b[0mprepare_roidb\u001b[0m\u001b[0;34m,\u001b[0m \u001b[0mrank_nearest_boxes\u001b[0m\u001b[0;34m\u001b[0m\u001b[0m\n\u001b[1;32m     13\u001b[0m \u001b[0;32mfrom\u001b[0m \u001b[0mdatasets\u001b[0m\u001b[0;34m.\u001b[0m\u001b[0mmotdb\u001b[0m \u001b[0;32mimport\u001b[0m \u001b[0mMotDB\u001b[0m\u001b[0;34m\u001b[0m\u001b[0m\n",
      "\u001b[0;31mModuleNotFoundError\u001b[0m: No module named 'tensorflow'"
     ]
    }
   ],
   "source": [
    "%matplotlib inline\n",
    "\n",
    "import time\n",
    "import os\n",
    "import sys\n",
    "import imp\n",
    "import argparse\n",
    "\n",
    "import numpy as np\n",
    "import cv2\n",
    "import tensorflow as tf\n",
    "from datasets.videodb import prepare_roidb, rank_nearest_boxes\n",
    "from datasets.motdb import MotDB\n",
    "from track_rcnn.net import TrackRCNN\n",
    "from track_rcnn.test import track_obj\n",
    "\n",
    "import matplotlib\n",
    "import matplotlib.pyplot as plt\n",
    "import matplotlib.image as mpimg\n",
    "import matplotlib.patches as patches\n",
    "from JSAnimation.IPython_display import display_animation\n",
    "from utils.visualize import *\n",
    "\n",
    "# Set GPU id\n",
    "os.environ['CUDA_VISIBLE_DEVICES'] = str(1)\n",
    "\n",
    "# Start session\n",
    "sess = tf.InteractiveSession()"
   ]
  },
  {
   "cell_type": "code",
   "execution_count": null,
   "metadata": {},
   "outputs": [],
   "source": [
    "def vis_traj(traj, roidb, n_rois=None, time_span=None, show_score=False):\n",
    "    \"\"\"\n",
    "    Viasualize a trajectory. \n",
    "    \"\"\"\n",
    "    if time_span is None:\n",
    "        time_span = (0, len(traj))\n",
    "    if len(time_span) == 2:\n",
    "        time_span = (time_span[0], time_span[1], 1)\n",
    "    \n",
    "    obj_id = traj[0]['obj_id']\n",
    "        \n",
    "    for t in range(time_span[0], time_span[1], time_span[2]):\n",
    "        assert t < len(traj), 'Error: Time step %d exceeds trajectory length %d' % (t, len(traj))\n",
    "        traj_t = traj[t]\n",
    "        # Create figure\n",
    "        figsize = (10, 10)\n",
    "        fig = plt.figure(figsize=figsize)\n",
    "        ax = fig.add_subplot(1, 1, 1)\n",
    "        # Show the image\n",
    "        img = cv2.imread(traj_t['image'])\n",
    "        img = cv2.cvtColor(img, cv2.COLOR_BGR2RGB)\n",
    "        ax.imshow(img)\n",
    "        plt.title('Image: {}\\nFrame: {}, Obj_ID: {}, BBox: {}, Visible: {}'.\\\n",
    "            format(traj_t['image'], traj_t['fr']+1, traj_t['obj_id']+1, traj_t['gt_box'].tolist(), traj_t['visible']))\n",
    "        \n",
    "        # Plot the ground truth bounding box\n",
    "        # noise = np.array([300, 300, 240, 270])\n",
    "        noise = np.array([0, 0, 0, 0])\n",
    "        plot_box(ax, traj_t['gt_box'] + noise, 1, traj_t['visible'], show_score)\n",
    "        \n",
    "        # Plot nearest rois\n",
    "        boxes = roidb[t]['boxes']\n",
    "        i_obj_id = roidb[t]['obj_ids'].index(obj_id)\n",
    "        scores = roidb[t]['gt_overlaps'][:, i_obj_id]\n",
    "        \n",
    "        if n_rois is None:\n",
    "            n_rois = boxes.shape[0]\n",
    "        rank_inds = np.argsort(scores)[::-1]\n",
    "        rank_inds = rank_inds[0:n_rois]\n",
    "        \n",
    "        for i in reversed(range(n_rois)):\n",
    "            ind = rank_inds[i]\n",
    "            _show_score = show_score | (i == 0)\n",
    "            plot_box(ax, boxes[ind], scores[ind], True, _show_score)\n",
    "        "
   ]
  },
  {
   "cell_type": "code",
   "execution_count": null,
   "metadata": {},
   "outputs": [],
   "source": [
    "# Load configuration\n",
    "path_config = os.path.join('track_rcnn', 'config.py')\n",
    "config = imp.load_source('*', path_config)\n",
    "cfg = config.cfg\n",
    "\n",
    "# Build \n",
    "m = TrackRCNN(cfg, mode='test')"
   ]
  },
  {
   "cell_type": "code",
   "execution_count": null,
   "metadata": {},
   "outputs": [],
   "source": [
    "# Retore pretrained model\n",
    "pretrain = 'tmp'\n",
    "\n",
    "saver = tf.train.Saver()\n",
    "pretrain_path = os.path.join('outputs', pretrain, 'model.ckpt')\n",
    "saver.restore(sess, pretrain_path)\n",
    "print('Loaded model from the checkpoint.')"
   ]
  },
  {
   "cell_type": "code",
   "execution_count": null,
   "metadata": {},
   "outputs": [],
   "source": [
    "# Choose videos\n",
    "valid_videos = ['PETS09-S2L1']\n",
    "\n",
    "# valid_videos = [\"ADL-Rundle-6\",\n",
    "#                 \"ETH-Bahnhof\",\n",
    "#                 \"ETH-Sunnyday\",\n",
    "#                 \"KITTI-13\",\n",
    "#                 \"PETS09-S2L1\",\n",
    "#                 \"TUD-Campus\",\n",
    "#                 \"Venice-2\"]\n",
    "\n",
    "# valid_videos = ['ADL-Rundle-8',\n",
    "#                 'ETH-Pedcross2',\n",
    "#                 'KITTI-17',\n",
    "#                 'TUD-Stadtmitte']\n",
    "\n",
    "# Train set\n",
    "videodb = MotDB(valid_videos)\n",
    "videodb.load_trajdb()\n",
    "\n",
    "valid_trajdb = list(videodb.trajdb)\n",
    "valid_roidb = prepare_roidb(videodb)\n",
    "\n",
    "print(len(valid_trajdb))\n",
    "print([(i, len(trajdb)) for i, trajdb in enumerate(valid_trajdb)])"
   ]
  },
  {
   "cell_type": "code",
   "execution_count": null,
   "metadata": {
    "scrolled": true
   },
   "outputs": [],
   "source": [
    "# Prepare data\n",
    "ind = 2\n",
    "trajdb = valid_trajdb[ind][:]\n",
    "video_id = trajdb[0]['video_id']\n",
    "roidb = valid_roidb[video_id]\n",
    "        \n",
    "# Run tracking\n",
    "boxes, confs, rois, score_preds = track_obj(cfg, sess, m, trajdb, roidb, 2)"
   ]
  },
  {
   "cell_type": "code",
   "execution_count": null,
   "metadata": {
    "scrolled": false
   },
   "outputs": [],
   "source": [
    "# Visualize\n",
    "roidb = []\n",
    "for box, conf in zip(boxes, confs):\n",
    "    roidb.append({'boxes': [box],\n",
    "                 'obj_ids': [trajdb[0]['obj_id']],\n",
    "                 'gt_overlaps': np.array([conf])})\n",
    "vis_traj(trajdb[:], roidb, n_rois=1)"
   ]
  },
  {
   "cell_type": "code",
   "execution_count": null,
   "metadata": {
    "scrolled": true
   },
   "outputs": [],
   "source": [
    "# Visualize\n",
    "roidb = []\n",
    "for roi, score in zip(rois, score_preds):\n",
    "    roidb.append({'boxes': roi,\n",
    "                 'obj_ids': [trajdb[0]['obj_id']],\n",
    "                 'gt_overlaps': np.expand_dims(score[0], 1)})\n",
    "vis_traj(trajdb[:], roidb, n_rois=1)"
   ]
  },
  {
   "cell_type": "code",
   "execution_count": null,
   "metadata": {
    "collapsed": true
   },
   "outputs": [],
   "source": []
  }
 ],
 "metadata": {
  "kernelspec": {
   "display_name": "Python 3",
   "language": "python",
   "name": "python3"
  },
  "language_info": {
   "codemirror_mode": {
    "name": "ipython",
    "version": 3
   },
   "file_extension": ".py",
   "mimetype": "text/x-python",
   "name": "python",
   "nbconvert_exporter": "python",
   "pygments_lexer": "ipython3",
   "version": "3.6.3"
  }
 },
 "nbformat": 4,
 "nbformat_minor": 1
}
